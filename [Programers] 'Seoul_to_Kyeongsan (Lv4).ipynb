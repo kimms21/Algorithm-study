{
 "cells": [
  {
   "cell_type": "code",
   "execution_count": 1,
   "metadata": {
    "collapsed": true
   },
   "outputs": [],
   "source": [
    "### https://programmers.co.kr/learn/courses/30/lessons/42899\n",
    "# example2 / 100\n",
    "K = 30\n",
    "travel = [[10, 20, 3, 7], [11, 19, 4, 9], \n",
    "          [9, 18, 4, 7], [12, 23, 5, 12]]\n",
    "\n"
   ]
  },
  {
   "cell_type": "code",
   "execution_count": 2,
   "metadata": {},
   "outputs": [
    {
     "name": "stdout",
     "output_type": "stream",
     "text": [
      "[0, 0, 0, 7, 0, 0, 0, 0, 0, 0, 20, 0, 0, 0, 0, 0, 0, 0, 0, 0, 0, 0, 0, 0, 0, 0, 0, 0, 0, 0, 0]\n",
      "[0, 0, 0, 0, 0, 0, 0, 0, 0, 0, 0, 0, 0, 0, 0, 0, 0, 0, 0, 0, 0, 0, 0, 0, 0, 0, 0, 0, 0, 0, 0]\n",
      "20 7\n"
     ]
    }
   ],
   "source": [
    "# table - 걸린시간/step별 최대 모금액을 기록하는 표\n",
    "# knapsack problem과 비슷\n",
    "#첫번째 도시의 결과를 initialization\n",
    "table = [[0 for _ in range(K+1)]for _ in range(len(travel))]\n",
    "table[0][travel[0][0]] = travel[0][1]\n",
    "table[0][travel[0][2]] = travel[0][3]\n",
    "\n",
    "#첫번째 열의 travel[0][0], travel[0][2] 를 제외하고는 모두 0\n",
    "\n",
    "for i in table[0:2]:\n",
    "    print(i)\n",
    "    \n",
    "print()\n",
    "print(table[0][travel[0][0]],table[0][travel[0][2]])\n"
   ]
  },
  {
   "cell_type": "code",
   "execution_count": 3,
   "metadata": {},
   "outputs": [
    {
     "name": "stdout",
     "output_type": "stream",
     "text": [
      "[0, 0, 0, 7, 0, 0, 0, 0, 0, 0, 20, 0, 0, 0, 0, 0, 0, 0, 0, 0, 0, 0, 0, 0, 0, 0, 0, 0, 0, 0, 0]\n",
      "[0, 0, 0, 0, 0, 0, 0, 16, 0, 0, 0, 0, 0, 0, 29, 0, 0, 0, 0, 0, 0, 39, 0, 0, 0, 0, 0, 0, 0, 0, 0]\n",
      "[0, 0, 0, 0, 0, 0, 0, 0, 0, 0, 0, 23, 0, 0, 0, 0, 34, 0, 36, 0, 0, 0, 0, 47, 0, 46, 0, 0, 0, 0, 57]\n",
      "[0, 0, 0, 0, 0, 0, 0, 0, 0, 0, 0, 0, 0, 0, 0, 0, 35, 0, 0, 0, 0, 46, 0, 48, 0, 0, 0, 0, 59, 0, 59]\n"
     ]
    }
   ],
   "source": [
    "# 어떤 행(tdx+1)의 모든 열(i)에 대해 i-travel[tdx][0], i-travel[0][2] 칸이 존재하고 그 값이 0이 아니라면 값 update\n",
    "for tdx, t in enumerate(travel[1:]):\n",
    "    for i in range(K+1):\n",
    "        cand1 = 0\n",
    "        cand2 = 0\n",
    "        if i-t[0] >= 0 and i-t[0] <= K:\n",
    "            if table[tdx][i-t[0]] != 0:\n",
    "                cand1 = table[tdx][i-t[0]] + t[1]\n",
    "        if i-t[2] >= 0 and i-t[2] <= K:\n",
    "            if table[tdx][i-t[2]] != 0:\n",
    "                cand2 = table[tdx][i-t[2]] + t[3]\n",
    "        table[tdx+1][i] = max(cand1, cand2)\n",
    "\n",
    "# 각 도시를 방문함에 따라 시간에 따른 최대 모금액이 update됨을 확인\n",
    "for i2 in table:\n",
    "    print(i2)\n",
    "\n"
   ]
  },
  {
   "cell_type": "code",
   "execution_count": 4,
   "metadata": {},
   "outputs": [
    {
     "name": "stdout",
     "output_type": "stream",
     "text": [
      "59\n"
     ]
    }
   ],
   "source": [
    "# 마지막 행의 최대값 return\n",
    "print(max(table[len(travel)-1]))"
   ]
  },
  {
   "cell_type": "code",
   "execution_count": 5,
   "metadata": {},
   "outputs": [
    {
     "name": "stdout",
     "output_type": "stream",
     "text": [
      "59\n"
     ]
    }
   ],
   "source": [
    "#최종 답안\n",
    "\n",
    "def solution(K,travel):\n",
    "    table = [[0 for _ in range(K+1)]for _ in range(len(travel))]\n",
    "    table[0][travel[0][0]] = travel[0][1]\n",
    "    table[0][travel[0][2]] = travel[0][3]\n",
    "\n",
    "    for tdx, t in enumerate(travel[1:]):\n",
    "        for i in range(K+1):\n",
    "            cand1 = 0\n",
    "            cand2 = 0\n",
    "            if i-t[0] >= 0 and i-t[0] <= K:\n",
    "                if table[tdx][i-t[0]] != 0:\n",
    "                    cand1 = table[tdx][i-t[0]] + t[1]\n",
    "            if i-t[2] >= 0 and i-t[2] <= K:\n",
    "                if table[tdx][i-t[2]] != 0:\n",
    "                    cand2 = table[tdx][i-t[2]] + t[3]\n",
    "            table[tdx+1][i] = max(cand1, cand2)\n",
    "\n",
    "    return(max(table[len(travel)-1]))\n",
    "\n",
    "print(solution(K,travel))"
   ]
  }
 ],
 "metadata": {
  "kernelspec": {
   "display_name": "Python 3",
   "language": "python",
   "name": "python3"
  },
  "language_info": {
   "codemirror_mode": {
    "name": "ipython",
    "version": 3
   },
   "file_extension": ".py",
   "mimetype": "text/x-python",
   "name": "python",
   "nbconvert_exporter": "python",
   "pygments_lexer": "ipython3",
   "version": "3.6.3"
  }
 },
 "nbformat": 4,
 "nbformat_minor": 2
}
