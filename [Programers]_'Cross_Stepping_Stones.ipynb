{
 "cells": [
  {
   "cell_type": "code",
   "execution_count": 1,
   "metadata": {
    "collapsed": true
   },
   "outputs": [],
   "source": [
    "stones = [2, 4, 5, 3, 2, 1, 4, 2, 5, 1]\n",
    "k = 3"
   ]
  },
  {
   "cell_type": "code",
   "execution_count": 2,
   "metadata": {},
   "outputs": [
    {
     "name": "stdout",
     "output_type": "stream",
     "text": [
      "최대값 : 5, 위치 : 2\n"
     ]
    }
   ],
   "source": [
    "# 디딤돌을 k개씩 묶어서 봤을 때 k개 묶음의 최대값들의 최소값을 구하면 되는 문제!\n",
    "# 처음 k개의 돌 묶음 중 최대값과(before_max) 그 위치 (where)를 구한다.\n",
    "# 처음 최대값을 정답의 후보값으로 initialize\n",
    "before_max = max(stones[0:k])\n",
    "start = 0\n",
    "where = stones.index(before_max)\n",
    "mn = before_max\n",
    "print('최대값 : ' + str(before_max) + ', 위치 : ' + str(where))\n",
    "\n"
   ]
  },
  {
   "cell_type": "code",
   "execution_count": 3,
   "metadata": {},
   "outputs": [
    {
     "name": "stdout",
     "output_type": "stream",
     "text": [
      "최대값, 위치, 정답 후보 :  [5, 1, 5] 첫번째 묶음 :  [2, 4, 5]\n"
     ]
    }
   ],
   "source": [
    "#탐색하는 함수 find_max를 정의, 하지만 일반적인 max와는 다르게 원소가 정답 후보(mn) 보다만 커져도 더 탐색할 필요가 없다.\n",
    "def find_max(part,mn):\n",
    "    mx = part[0]\n",
    "    which = 0\n",
    "    for idx, p in enumerate(part[1:]):\n",
    "        if p > mx:\n",
    "            mx = p\n",
    "            which = idx\n",
    "            if mx >= mn:\n",
    "                return([mx,which,mn])\n",
    "    if mn > mx:\n",
    "        mn = mx \n",
    "    \n",
    "    return([mx,which,mn])\n",
    "\n",
    "print('최대값, 위치, 정답 후보 : ',find_max(stones[start:start+k],mn),'첫번째 묶음 : ',stones[start:start+k])"
   ]
  },
  {
   "cell_type": "code",
   "execution_count": 4,
   "metadata": {},
   "outputs": [
    {
     "name": "stdout",
     "output_type": "stream",
     "text": [
      "탐색지점 :  [3, 2, 1] 전체 :  [2, 4, 5, 3, 2, 1, 4, 2, 5, 1]\n",
      "탐색지점 :  [2, 1, 4] 전체 :  [2, 4, 5, 3, 2, 1, 4, 2, 5, 1]\n",
      "탐색지점 :  [2, 5, 1] 전체 :  [2, 4, 5, 3, 2, 1, 4, 2, 5, 1]\n"
     ]
    }
   ],
   "source": [
    "# 우리는 where 앞부분 까지는 큰 수가 나오지 않는 것을 알고 있기에 굳이 탐색을 여러번 할 필요가 없다.\n",
    "# 따라서 묶음의 시작점(start)를 start + where + 1 지점으로 점프\n",
    "# 만약 묶음 다음 돌이 정답 후보보다 크다면 굳이 최대값을 찾을 필요가 없이 k-1칸만큼 점프 가능\n",
    "# 그렇지 않다면 k묶음 탐색 후 where 만큼 점프하는 과정을 반복\n",
    "\n",
    "while start + where < len(stones)-k:\n",
    "    start = start + where + 1\n",
    "    nxt = stones[start+k-1] \n",
    "    print('탐색지점 : ', stones[start:start+k], '전체 : ', stones )\n",
    "    if nxt >= mn:\n",
    "        before_max, where = nxt, k-1\n",
    "\n",
    "    else:\n",
    "        before_max, where, mn = find_max(stones[start:start+k],mn)\n",
    "        \n",
    "    "
   ]
  },
  {
   "cell_type": "code",
   "execution_count": 5,
   "metadata": {},
   "outputs": [
    {
     "name": "stdout",
     "output_type": "stream",
     "text": [
      "3\n"
     ]
    }
   ],
   "source": [
    "# 이 알고리즘이 가장 비효율적으로 작동하는 경우는 완전한 내림차순일 경우로 O(nk) *n = len(stones)\n",
    "# 이를 방지하기 위해 첫 최대값이 중간보다 앞지점에 있을 경우 reverse\n",
    "# 전체 솔루션 코드\n",
    "\n",
    "def solution(stones,k):\n",
    "    \n",
    "    before_max = max(stones[0:k])\n",
    "    start = 0\n",
    "    where = stones.index(before_max)\n",
    "    if where < int(len(stones[0:k])/2):\n",
    "        stones.reverse()\n",
    "        before_max = max(stones[0:k])\n",
    "        where = stones.index(before_max)\n",
    "\n",
    "\n",
    "    \n",
    "    mn = before_max\n",
    "    while start + where < len(stones)-k:\n",
    "        start = start + where + 1\n",
    "        nxt = stones[start+k-1] \n",
    "        if nxt >= mn:\n",
    "            before_max, where = nxt, k-1\n",
    "            \n",
    "        else:\n",
    "            before_max, where, mn = find_max(stones[start:start+k],mn)\n",
    "        \n",
    "    return(mn)\n",
    "\n",
    "print(solution(stones,k))"
   ]
  }
 ],
 "metadata": {
  "kernelspec": {
   "display_name": "Python 3",
   "language": "python",
   "name": "python3"
  },
  "language_info": {
   "codemirror_mode": {
    "name": "ipython",
    "version": 3
   },
   "file_extension": ".py",
   "mimetype": "text/x-python",
   "name": "python",
   "nbconvert_exporter": "python",
   "pygments_lexer": "ipython3",
   "version": "3.6.3"
  }
 },
 "nbformat": 4,
 "nbformat_minor": 2
}
