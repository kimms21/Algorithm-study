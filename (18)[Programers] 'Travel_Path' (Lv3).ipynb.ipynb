{
 "cells": [
  {
   "cell_type": "code",
   "execution_count": 1,
   "metadata": {},
   "outputs": [
    {
     "name": "stdout",
     "output_type": "stream",
     "text": [
      "['ICN', 'ATL']\n",
      "{'ICN': ['SFO'], 'SFO': ['ATL'], 'ATL': ['SFO', 'ICN']}\n",
      "[]\n",
      "['ICN', 'ATL', 'ICN']\n",
      "{'ICN': ['SFO'], 'SFO': ['ATL'], 'ATL': ['SFO']}\n",
      "[]\n",
      "['ICN', 'ATL', 'ICN', 'SFO']\n",
      "{'ICN': [], 'SFO': ['ATL'], 'ATL': ['SFO']}\n",
      "[]\n",
      "['ICN', 'ATL', 'ICN', 'SFO', 'ATL']\n",
      "{'ICN': [], 'SFO': [], 'ATL': ['SFO']}\n",
      "[]\n",
      "['ICN', 'ATL', 'ICN', 'SFO', 'ATL', 'SFO']\n",
      "{'ICN': [], 'SFO': [], 'ATL': []}\n",
      "[]\n",
      "['ICN', 'ATL', 'ICN', 'SFO', 'ATL']\n",
      "{'ICN': [], 'SFO': [], 'ATL': []}\n",
      "['SFO']\n",
      "['ICN', 'ATL', 'ICN', 'SFO']\n",
      "{'ICN': [], 'SFO': [], 'ATL': []}\n",
      "['SFO', 'ATL']\n",
      "['ICN', 'ATL', 'ICN']\n",
      "{'ICN': [], 'SFO': [], 'ATL': []}\n",
      "['SFO', 'ATL', 'SFO']\n",
      "['ICN', 'ATL']\n",
      "{'ICN': [], 'SFO': [], 'ATL': []}\n",
      "['SFO', 'ATL', 'SFO', 'ICN']\n",
      "['ICN']\n",
      "{'ICN': [], 'SFO': [], 'ATL': []}\n",
      "['SFO', 'ATL', 'SFO', 'ICN', 'ATL']\n",
      "[]\n",
      "{'ICN': [], 'SFO': [], 'ATL': []}\n",
      "['SFO', 'ATL', 'SFO', 'ICN', 'ATL', 'ICN']\n",
      "['ICN', 'ATL', 'ICN', 'SFO', 'ATL', 'SFO']\n"
     ]
    }
   ],
   "source": [
    "tickets = [['ICN', 'SFO'], ['ICN', 'ATL'], ['SFO', 'ATL'], ['ATL', 'ICN'], ['ATL','SFO']]\n",
    "\n",
    "# 노드 정보 dictionary 생성 후 정렬\n",
    "dct = dict()\n",
    "\n",
    "for (start, end) in tickets:\n",
    "    dct[start] = dct.get(start, []) + [end]  \n",
    "\n",
    "for i in dct.keys():\n",
    "    dct[i].sort(reverse=True)\n",
    "\n",
    "# DFS .\n",
    "queue = [\"ICN\"]\n",
    "answer = []\n",
    "\n",
    "while queue:\n",
    "    check_city = queue[-1]\n",
    "    \n",
    "    # 내가 선택한 길이 끝까지 갈 수 있다는 걸 확인하면 마지막 도시를 고정 (path에 추가)\n",
    "    # 한붓그리기 가능한 graph에서만 가능\n",
    "    if check_city not in dct or len(dct[check_city]) == 0:\n",
    "        answer.append(queue.pop())\n",
    "    else:\n",
    "        queue.append(dct[check_city][-1])\n",
    "        dct[check_city] = dct[check_city][:-1]\n",
    "    print(queue)\n",
    "    print(dct)\n",
    "    print(answer)\n",
    "    \n",
    "#뒤에서부터 출력\n",
    "answer.reverse()\n",
    "print(answer)"
   ]
  },
  {
   "cell_type": "code",
   "execution_count": 2,
   "metadata": {},
   "outputs": [],
   "source": [
    "def solution(tickets):\n",
    "    dct = dict()\n",
    "\n",
    "    for (start, end) in tickets:\n",
    "        dct[start] = dct.get(start, []) + [end]  \n",
    "\n",
    "    for i in dct.keys():\n",
    "        dct[i].sort(reverse=True)\n",
    "\n",
    "    queue = [\"ICN\"]\n",
    "    answer = []\n",
    "\n",
    "    while queue:\n",
    "        ckeck_city = queue[-1]\n",
    "        if ckeck_city not in dct or len(dct[ckeck_city]) == 0:\n",
    "            answer.append(queue.pop())\n",
    "        else:\n",
    "            queue.append(dct[ckeck_city][-1])\n",
    "            dct[ckeck_city] = dct[ckeck_city][:-1]\n",
    "\n",
    "    #뒤에서부터 출력\n",
    "    answer.reverse()\n",
    "    return answer"
   ]
  }
 ],
 "metadata": {
  "kernelspec": {
   "display_name": "Python 3",
   "language": "python",
   "name": "python3"
  },
  "language_info": {
   "codemirror_mode": {
    "name": "ipython",
    "version": 3
   },
   "file_extension": ".py",
   "mimetype": "text/x-python",
   "name": "python",
   "nbconvert_exporter": "python",
   "pygments_lexer": "ipython3",
   "version": "3.7.3"
  }
 },
 "nbformat": 4,
 "nbformat_minor": 2
}
