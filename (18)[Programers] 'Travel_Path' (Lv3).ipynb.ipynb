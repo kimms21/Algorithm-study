{
 "cells": [
  {
   "cell_type": "code",
   "execution_count": 1,
   "metadata": {},
   "outputs": [
    {
     "ename": "NameError",
     "evalue": "name 'top' is not defined",
     "output_type": "error",
     "traceback": [
      "\u001b[1;31m---------------------------------------------------------------------------\u001b[0m",
      "\u001b[1;31mNameError\u001b[0m                                 Traceback (most recent call last)",
      "\u001b[1;32m<ipython-input-1-31ca3edfadb3>\u001b[0m in \u001b[0;36m<module>\u001b[1;34m\u001b[0m\n\u001b[0;32m     22\u001b[0m         \u001b[0manswer\u001b[0m\u001b[1;33m.\u001b[0m\u001b[0mappend\u001b[0m\u001b[1;33m(\u001b[0m\u001b[0mqueue\u001b[0m\u001b[1;33m.\u001b[0m\u001b[0mpop\u001b[0m\u001b[1;33m(\u001b[0m\u001b[1;33m)\u001b[0m\u001b[1;33m)\u001b[0m\u001b[1;33m\u001b[0m\u001b[1;33m\u001b[0m\u001b[0m\n\u001b[0;32m     23\u001b[0m     \u001b[1;32melse\u001b[0m\u001b[1;33m:\u001b[0m\u001b[1;33m\u001b[0m\u001b[1;33m\u001b[0m\u001b[0m\n\u001b[1;32m---> 24\u001b[1;33m         \u001b[0mqueue\u001b[0m\u001b[1;33m.\u001b[0m\u001b[0mappend\u001b[0m\u001b[1;33m(\u001b[0m\u001b[0mdct\u001b[0m\u001b[1;33m[\u001b[0m\u001b[0mtop\u001b[0m\u001b[1;33m]\u001b[0m\u001b[1;33m[\u001b[0m\u001b[1;33m-\u001b[0m\u001b[1;36m1\u001b[0m\u001b[1;33m]\u001b[0m\u001b[1;33m)\u001b[0m\u001b[1;33m\u001b[0m\u001b[1;33m\u001b[0m\u001b[0m\n\u001b[0m\u001b[0;32m     25\u001b[0m         \u001b[0mdct\u001b[0m\u001b[1;33m[\u001b[0m\u001b[0mcheck_city\u001b[0m\u001b[1;33m]\u001b[0m \u001b[1;33m=\u001b[0m \u001b[0mdct\u001b[0m\u001b[1;33m[\u001b[0m\u001b[0mcheck_city\u001b[0m\u001b[1;33m]\u001b[0m\u001b[1;33m[\u001b[0m\u001b[1;33m:\u001b[0m\u001b[1;33m-\u001b[0m\u001b[1;36m1\u001b[0m\u001b[1;33m]\u001b[0m\u001b[1;33m\u001b[0m\u001b[1;33m\u001b[0m\u001b[0m\n\u001b[0;32m     26\u001b[0m     \u001b[0mprint\u001b[0m\u001b[1;33m(\u001b[0m\u001b[0mqueue\u001b[0m\u001b[1;33m)\u001b[0m\u001b[1;33m\u001b[0m\u001b[1;33m\u001b[0m\u001b[0m\n",
      "\u001b[1;31mNameError\u001b[0m: name 'top' is not defined"
     ]
    }
   ],
   "source": [
    "tickets = [['ICN', 'SFO'], ['ICN', 'ATL'], ['SFO', 'ATL'], ['ATL', 'ICN'], ['ATL','SFO']]\n",
    "\n",
    "# 노드 정보 dictionary 생성 후 정렬\n",
    "dct = dict()\n",
    "\n",
    "for (start, end) in tickets:\n",
    "    dct[start] = dct.get(start, []) + [end]  \n",
    "\n",
    "for i in dct.keys():\n",
    "    dct[i].sort(reverse=True)\n",
    "\n",
    "# DFS .\n",
    "queue = [\"ICN\"]\n",
    "answer = []\n",
    "\n",
    "while queue:\n",
    "    check_city = queue[-1]\n",
    "    \n",
    "    # 내가 선택한 길이 끝까지 갈 수 있다는 걸 확인하면 마지막 도시를 고정 (path에 추가)\n",
    "    # 한붓그리기 가능한 graph에서만 가능\n",
    "    if check_city not in dct or len(dct[check_city]) == 0:\n",
    "        answer.append(queue.pop())\n",
    "    else:\n",
    "        queue.append(dct[check_city][-1])\n",
    "        dct[check_city] = dct[check_city][:-1]\n",
    "    print(queue)\n",
    "    print(dct)\n",
    "    print(answer)\n",
    "    \n",
    "#뒤에서부터 출력\n",
    "answer.reverse()\n",
    "print(answer)"
   ]
  },
  {
   "cell_type": "code",
   "execution_count": null,
   "metadata": {},
   "outputs": [],
   "source": [
    "def solution(tickets):\n",
    "    dct = dict()\n",
    "\n",
    "    for (start, end) in tickets:\n",
    "        dct[start] = dct.get(start, []) + [end]  \n",
    "\n",
    "    for i in dct.keys():\n",
    "        dct[i].sort(reverse=True)\n",
    "\n",
    "    queue = [\"ICN\"]\n",
    "    answer = []\n",
    "\n",
    "    while queue:\n",
    "        ckeck_city = queue[-1]\n",
    "        if ckeck_city not in dct or len(dct[ckeck_city]) == 0:\n",
    "            answer.append(queue.pop())\n",
    "        else:\n",
    "            queue.append(dct[ckeck_city][-1])\n",
    "            dct[ckeck_city] = dct[ckeck_city][:-1]\n",
    "\n",
    "    #뒤에서부터 출력\n",
    "    answer.reverse()\n",
    "    return answer"
   ]
  }
 ],
 "metadata": {
  "kernelspec": {
   "display_name": "Python 3",
   "language": "python",
   "name": "python3"
  },
  "language_info": {
   "codemirror_mode": {
    "name": "ipython",
    "version": 3
   },
   "file_extension": ".py",
   "mimetype": "text/x-python",
   "name": "python",
   "nbconvert_exporter": "python",
   "pygments_lexer": "ipython3",
   "version": "3.7.3"
  }
 },
 "nbformat": 4,
 "nbformat_minor": 2
}
