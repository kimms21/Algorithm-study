{
 "cells": [
  {
   "cell_type": "code",
   "execution_count": 1,
   "metadata": {
    "collapsed": true
   },
   "outputs": [],
   "source": [
    "# 샵이 들어갈 경우 멜로디 길이를 측정하는데 문제가 되므로 1글자 짜리 다른 문자로 치환해줍니다\n",
    "\n",
    "def replace_shop(text):\n",
    "    text = text.replace(\"A#\",\"Z\")\n",
    "    text = text.replace(\"C#\",\"Y\")\n",
    "    text = text.replace(\"D#\",\"W\")\n",
    "    text = text.replace(\"F#\",\"X\")\n",
    "    text = text.replace(\"G#\",\"V\")\n",
    "    return(text)"
   ]
  },
  {
   "cell_type": "code",
   "execution_count": 2,
   "metadata": {},
   "outputs": [
    {
     "name": "stdout",
     "output_type": "stream",
     "text": [
      "['YD', 'ABCDE'] ['HELLO', 'WORLD']\n",
      "WORLD\n"
     ]
    }
   ],
   "source": [
    "m = \"ABC\"\n",
    "musicinfos = [\"12:59,13:01,HELLO,C#DEFGAB\", \"13:00,13:05,WORLD,ABCDEF\"]\n",
    "\n",
    "m = replace_shop(m)\n",
    "\n",
    "songs = []\n",
    "titles = []\n",
    "for music in musicinfos:\n",
    "    #시간 parsing\n",
    "    \n",
    "    start_hr = music[0:2]\n",
    "    start_min = music[3:5]\n",
    "    end_hr = music[6:8]\n",
    "    end_min = music[9:11]\n",
    "    \n",
    "    playtime = 60*(int(end_hr)-int(start_hr)) + int(end_min) - int(start_min)\n",
    "    \n",
    "    \n",
    "    #제목 parsing\n",
    "    title = \"\"\n",
    "    for cdx, char in enumerate(music[12:]):\n",
    "        if char == \",\":\n",
    "            break\n",
    "        title = title + char\n",
    "    where = 13+cdx\n",
    "\n",
    "    #음정 parsing\n",
    "    melody = \"\"\n",
    "    for sdx, sound in enumerate(music[where:]):\n",
    "        if sound == \",\":\n",
    "            break\n",
    "        melody = melody + sound\n",
    "    melody = replace_shop(melody)\n",
    "    repeat = playtime//len(melody)\n",
    "    part = melody[0:playtime%len(melody)]\n",
    "    song = melody*repeat + part\n",
    "    songs.append(song)\n",
    "    titles.append(title)\n",
    "print(songs,titles)\n",
    "    \n",
    "\n",
    "cand = '(None)'\n",
    "l = 0\n",
    "for idx, i in enumerate(songs):\n",
    "    if m in i:\n",
    "        # 재생 시간이 가장 긴 정답 반환, 먼저 입력이기에 등호(=) 생략\n",
    "        if len(i) > l:\n",
    "            cand = titles[idx]\n",
    "            l = len(i)\n",
    "print(cand)"
   ]
  },
  {
   "cell_type": "code",
   "execution_count": 3,
   "metadata": {
    "collapsed": true
   },
   "outputs": [],
   "source": [
    "#솔루션\n",
    "def solution(m, musicinfos):\n",
    "    m = replace_shop(m)\n",
    "    \n",
    "    songs = []\n",
    "    titles = []\n",
    "    for music in musicinfos:\n",
    "        start_hr = music[0:2]\n",
    "        start_min = music[3:5]\n",
    "        end_hr = music[6:8]\n",
    "        end_min = music[9:11]\n",
    "\n",
    "        playtime = 60*(int(end_hr)-int(start_hr)) + int(end_min) - int(start_min)\n",
    "\n",
    "        title = \"\"\n",
    "        for cdx, char in enumerate(music[12:]):\n",
    "            if char == \",\":\n",
    "                break\n",
    "            title = title + char\n",
    "        where = 13+cdx\n",
    "        melody = \"\"\n",
    "        for sdx, sound in enumerate(music[where:]):\n",
    "            if sound == \",\":\n",
    "                break\n",
    "            melody = melody + sound\n",
    "        melody = replace_shop(melody)\n",
    "        repeat = playtime//len(melody)\n",
    "        part = melody[0:playtime%len(melody)]\n",
    "        song = melody*repeat + part\n",
    "        songs.append(song)\n",
    "        titles.append(title)\n",
    "    \n",
    "    cand = '(None)'\n",
    "    l = 0\n",
    "    for idx, i in enumerate(songs):\n",
    "        if m in i:\n",
    "            if len(i) > l:\n",
    "                cand = titles[idx]\n",
    "                l = len(i)\n",
    "    return(cand)"
   ]
  }
 ],
 "metadata": {
  "kernelspec": {
   "display_name": "Python 3",
   "language": "python",
   "name": "python3"
  },
  "language_info": {
   "codemirror_mode": {
    "name": "ipython",
    "version": 3
   },
   "file_extension": ".py",
   "mimetype": "text/x-python",
   "name": "python",
   "nbconvert_exporter": "python",
   "pygments_lexer": "ipython3",
   "version": "3.6.3"
  }
 },
 "nbformat": 4,
 "nbformat_minor": 2
}
