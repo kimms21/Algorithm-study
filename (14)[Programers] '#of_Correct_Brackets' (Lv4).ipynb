{
 "cells": [
  {
   "cell_type": "code",
   "execution_count": 1,
   "metadata": {},
   "outputs": [
    {
     "name": "stdout",
     "output_type": "stream",
     "text": [
      "[[ 1  0  0  0  0]\n",
      " [ 2  1  0  0  0]\n",
      " [ 5  3  1  0  0]\n",
      " [14  9  4  1  0]\n",
      " [42 28 14  5  1]]\n"
     ]
    },
    {
     "data": {
      "text/plain": [
       "42"
      ]
     },
     "execution_count": 1,
     "metadata": {},
     "output_type": "execute_result"
    }
   ],
   "source": [
    "# table 행 : n, 열 : 열린 괄호 cnt 개로 시작하는 올바른 괄호의 개수\n",
    "# ex : table(5,3) = 5개의 괄호 쌍 중 ((( 로 시작하는 올바른 괄호의 개수\n",
    "# Iter 1 : n개의 괄호 쌍 중 n개의 열린 괄호로 시작하는 올바른 괄호의 개수는 무조건 1 (나머지가 모두 닫힌 괄호)\n",
    "# Iter 2 : n개의 괄호 쌍 중 n-1개의 열린 괄호로 시작하는 올바른 괄호의 개수는 무조건 n (n개의 닫힌 괄호 사이 중 1군데에 열린 괄호가\n",
    "# 들어감, 맨 마지막 자리는 들어갈 수 없음)\n",
    "# Iter n (코드 변수명 update), cnt = 1 (코드에서 j==0) :\n",
    "# table(n,1) = (~~~~ = ()~~~~ + ((~~~~ = table(n-1,1) + table(n,2)\n",
    "# Iter n , cnt != 1 (코드에서 else) :\n",
    "# table(n,cnt) = (((~~~~ = ((()~~~~ + ((((~~~~ = table(n-1,cnt-1) + table(n,cnt+1)\n",
    "# table을 모두 채우면 table(n,1)값을 반환\n",
    "\n",
    "import numpy as np\n",
    "\n",
    "\n",
    "def solution(n):\n",
    "    if n == 1:\n",
    "        return(1)\n",
    "    \n",
    "    table = []\n",
    "    for i in range(n):\n",
    "        table.append([0]*n)\n",
    "        table[i][i] = 1\n",
    "        if i >0:\n",
    "            table[i][i-1] = i+1\n",
    "            \n",
    "    cnt = n-2\n",
    "    while cnt > 0:\n",
    "        update = n - cnt\n",
    "        for j in range(cnt):\n",
    "            if j == 0:\n",
    "                table[update][0] = table[update-1][0]+table[update][1]\n",
    "            else:\n",
    "                table[j+update][j] = table[j+update-1][j-1]+table[j+update][j+1]\n",
    "        cnt = cnt - 1\n",
    "    \n",
    "    print(np.array(table))\n",
    "    answer = table[n-1][0]\n",
    "    return answer\n",
    "\n",
    "solution(5)"
   ]
  }
 ],
 "metadata": {
  "kernelspec": {
   "display_name": "Python 3",
   "language": "python",
   "name": "python3"
  },
  "language_info": {
   "codemirror_mode": {
    "name": "ipython",
    "version": 3
   },
   "file_extension": ".py",
   "mimetype": "text/x-python",
   "name": "python",
   "nbconvert_exporter": "python",
   "pygments_lexer": "ipython3",
   "version": "3.6.3"
  }
 },
 "nbformat": 4,
 "nbformat_minor": 2
}
