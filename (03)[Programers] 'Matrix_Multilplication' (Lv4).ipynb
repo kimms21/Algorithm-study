{
 "cells": [
  {
   "cell_type": "code",
   "execution_count": 105,
   "metadata": {},
   "outputs": [
    {
     "name": "stdout",
     "output_type": "stream",
     "text": [
      "[[  0  30   0   0   0   0]\n",
      " [  0   0  24   0   0   0]\n",
      " [  0   0   0  72   0   0]\n",
      " [  0   0   0   0 168   0]\n",
      " [  0   0   0   0   0 336]\n",
      " [  0   0   0   0   0   0]]\n"
     ]
    }
   ],
   "source": [
    "import numpy as np\n",
    "# 각각 A1 A2 A3 ... A6\n",
    "matrix_sizes = [[5,2],[2,3],[3,4],[4,6],[6,7],[7,8]]\n",
    "\n",
    "# idea 동적 계획법\n",
    "# 행(i) 에서 열(j) 만큼 곱했을 때의 최소값을 차례로 기록\n",
    "# ex) table[1][3] = A2*A3*A4 의 최소\n",
    "# 초기 table은 모두 0으로 initialize (table[i][i] = 0)\n",
    "# cnt : update할 항의 개수 (대각선 방향으로 update)\n",
    "\n",
    "table = []\n",
    "cnt = len(matrix_sizes)\n",
    "for i in range(cnt):\n",
    "    table.append([0]*cnt)\n",
    "\n",
    "# table[i][i+1] 은 case가 하나밖에 없으므로 바로 채워줍니다.\n",
    "cnt = cnt - 1\n",
    "for i in range(cnt):\n",
    "    table[i][i+1] = matrix_sizes[i][0]*matrix_sizes[i][1]*matrix_sizes[i+1][1]\n",
    "\n",
    "print(np.array(table))"
   ]
  },
  {
   "cell_type": "code",
   "execution_count": 106,
   "metadata": {},
   "outputs": [
    {
     "name": "stdout",
     "output_type": "stream",
     "text": [
      "Iteration 1\n",
      "[[  0  30  64   0   0   0]\n",
      " [  0   0  24  72   0   0]\n",
      " [  0   0   0  72 198   0]\n",
      " [  0   0   0   0 168 392]\n",
      " [  0   0   0   0   0 336]\n",
      " [  0   0   0   0   0   0]]\n",
      "Iteration 2\n",
      "[[  0  30  64 132   0   0]\n",
      " [  0   0  24  72 156   0]\n",
      " [  0   0   0  72 198 366]\n",
      " [  0   0   0   0 168 392]\n",
      " [  0   0   0   0   0 336]\n",
      " [  0   0   0   0   0   0]]\n",
      "Iteration 3\n",
      "[[  0  30  64 132 226   0]\n",
      " [  0   0  24  72 156 268]\n",
      " [  0   0   0  72 198 366]\n",
      " [  0   0   0   0 168 392]\n",
      " [  0   0   0   0   0 336]\n",
      " [  0   0   0   0   0   0]]\n",
      "Iteration 4\n",
      "[[  0  30  64 132 226 348]\n",
      " [  0   0  24  72 156 268]\n",
      " [  0   0   0  72 198 366]\n",
      " [  0   0   0   0 168 392]\n",
      " [  0   0   0   0   0 336]\n",
      " [  0   0   0   0   0   0]]\n",
      "Iteration 4\n",
      "[[  0  30  64 132 226 348]\n",
      " [  0   0  24  72 156 268]\n",
      " [  0   0   0  72 198 366]\n",
      " [  0   0   0   0 168 392]\n",
      " [  0   0   0   0   0 336]\n",
      " [  0   0   0   0   0   0]]\n",
      "348\n"
     ]
    }
   ],
   "source": [
    "while cnt > 0 :\n",
    "    cnt = cnt - 1\n",
    "    # 곱셈을 수행할 행렬의 개수가 2개 이상의 경우는 비교해야 할 case가 생김\n",
    "    for i in range(cnt):\n",
    "        # 첫번째 후보로 최소값을 initialize\n",
    "        n_cases = len(matrix_sizes)-cnt\n",
    "        min_cand = table[i+1][i+n_cases]+matrix_sizes[i][0]*matrix_sizes[i+1][0]*matrix_sizes[i+n_cases][1]*matrix_sizes[i+n_cases][1]\n",
    "        # 예를 들어 A2xA3xA4xA5xA6을 한다면 각각\n",
    "        # (A2) x (A3xA4xA5xA6)\n",
    "        # (A2xA3) x (A4xA5xA6)\n",
    "        # (A2xA3xA4) x (A5xA6)\n",
    "        # (A2xA3xA4xA5) x (A6)\n",
    "        # 을 비교하며 좌,우 항을 나누는 분기점을 point로 지정, 좌 우 항은 모두 table에 값이 나와 있으므로 index를 잘 설정하여 불러오기\n",
    "        for point in range(n_cases):\n",
    "            case = table[i][i+point]+table[i+point+1][i+n_cases]+matrix_sizes[i][0]*matrix_sizes[i+point+1][0]*matrix_sizes[i+n_cases][1]\n",
    "            if case<min_cand:\n",
    "                min_cand = case\n",
    "        table[i][i+n_cases] = min_cand\n",
    "    print(\"Iteration %d\" % (n_cases-1))\n",
    "    print(np.array(table))\n",
    "\n",
    "#정답은 첫번째 행, 마지막 열\n",
    "print(table[0][len(matrix_sizes)-1])"
   ]
  },
  {
   "cell_type": "code",
   "execution_count": 103,
   "metadata": {},
   "outputs": [
    {
     "name": "stdout",
     "output_type": "stream",
     "text": [
      "348\n"
     ]
    }
   ],
   "source": [
    "# 함수화 시키면?\n",
    "def solution(matrix_sizes):\n",
    "    table = []\n",
    "    cnt = len(matrix_sizes)\n",
    "    for i in range(cnt):\n",
    "        table.append([0]*cnt)\n",
    "\n",
    "\n",
    "\n",
    "    cnt = cnt - 1\n",
    "    for i in range(cnt):\n",
    "        table[i][i+1] = matrix_sizes[i][0]*matrix_sizes[i][1]*matrix_sizes[i+1][1]\n",
    "\n",
    "    while cnt > 0 :\n",
    "        cnt = cnt - 1\n",
    "        for i in range(cnt):\n",
    "            n_cases = len(matrix_sizes)-cnt\n",
    "            min_cand = table[i+1][i+n_cases]+matrix_sizes[i][0]*matrix_sizes[i+1][0]*matrix_sizes[i+n_cases][1]*matrix_sizes[i+n_cases][1]\n",
    "            for point in range(n_cases):\n",
    "                case = table[i][i+point]+table[i+point+1][i+n_cases]+matrix_sizes[i][0]*matrix_sizes[i+point+1][0]*matrix_sizes[i+n_cases][1]\n",
    "                if case<min_cand:\n",
    "                    min_cand = case\n",
    "            table[i][i+n_cases] = min_cand\n",
    "\n",
    "    return(table[0][len(matrix_sizes)-1])\n",
    "\n",
    "\n",
    "print(solution(matrix_sizes))"
   ]
  }
 ],
 "metadata": {
  "kernelspec": {
   "display_name": "Python 3",
   "language": "python",
   "name": "python3"
  },
  "language_info": {
   "codemirror_mode": {
    "name": "ipython",
    "version": 3
   },
   "file_extension": ".py",
   "mimetype": "text/x-python",
   "name": "python",
   "nbconvert_exporter": "python",
   "pygments_lexer": "ipython3",
   "version": "3.6.3"
  }
 },
 "nbformat": 4,
 "nbformat_minor": 2
}
