{
 "cells": [
  {
   "cell_type": "code",
   "execution_count": null,
   "metadata": {},
   "outputs": [],
   "source": [
    "# 최선의 전략 : 질 때는 크게 지고 이길 때는 소소하게 이긴다!\n",
    "# 서로 가장 낮은 숫자를 비교 한뒤 B가 하나라도 지는 케이스가 있으면 A는 가장 높은 숫자를, B는 가장 낮은 숫자를 버리고 재실행\n",
    "# 모든 케이스에서 B가 이긴다면 남은 카드의 숫자가 최선의 전략을 썼을 때 B의 승점"
   ]
  },
  {
   "cell_type": "code",
   "execution_count": null,
   "metadata": {},
   "outputs": [],
   "source": [
    "def solution(A, B):\n",
    "    sign = 0\n",
    "    A = sorted(A)\n",
    "    B = sorted(B)\n",
    "    while sign == 0:\n",
    "        for i in range(len(A)):\n",
    "            if A[i] >= B[i]:\n",
    "                A.pop()\n",
    "                B.pop(0)\n",
    "                break\n",
    "        else:\n",
    "            sign = 1\n",
    "    \n",
    "    \n",
    "    answer = len(A)\n",
    "    return answer"
   ]
  }
 ],
 "metadata": {
  "kernelspec": {
   "display_name": "Python 3",
   "language": "python",
   "name": "python3"
  },
  "language_info": {
   "codemirror_mode": {
    "name": "ipython",
    "version": 3
   },
   "file_extension": ".py",
   "mimetype": "text/x-python",
   "name": "python",
   "nbconvert_exporter": "python",
   "pygments_lexer": "ipython3",
   "version": "3.7.3"
  }
 },
 "nbformat": 4,
 "nbformat_minor": 2
}
