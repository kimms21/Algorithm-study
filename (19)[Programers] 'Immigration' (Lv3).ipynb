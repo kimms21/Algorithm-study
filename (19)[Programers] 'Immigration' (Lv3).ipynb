{
 "cells": [
  {
   "cell_type": "code",
   "execution_count": 1,
   "metadata": {},
   "outputs": [],
   "source": [
    "# 이분탐색 : 예상 답을 찍어두고 실제 답이 예상 답보다 작은지 큰지를 판별해가며 답에 근접하는 방법\n",
    "# check : 판별함수\n",
    "# idea : 만약 정답이 있다면 이는 다음 2가지 조건을 만족해야 한다.\n",
    "# 1. sum(대기자/걸리는 시간(i)) = n (sum이 n보다 크다면 이는 시간의 낭비가 있는 것이고 더 작다면 시간 내에 끝내는 것은 불가능)\n",
    "# 2. 대기자%걸리는 시간(i) = 0 인 i가 적어도 하나 존재할 것 (아니라면 모두 검사가 끝나고 몇초를 더 사용한 상태)\n",
    "\n",
    "\n",
    "def check (cand, times, n):\n",
    "    k = 0\n",
    "    fit = 0\n",
    "    for time in times:\n",
    "        k = k + cand//time\n",
    "        if cand%time == 0:\n",
    "            fit = 1\n",
    "    \n",
    "    #1번조건\n",
    "    if k > n:\n",
    "        return(1)\n",
    "    elif k < n:\n",
    "        return(-1)\n",
    "    else:\n",
    "        #2번조건\n",
    "        if fit == 1:\n",
    "            return(0)\n",
    "        else:\n",
    "            return(1)\n",
    "    \n",
    "def solution(n, times):\n",
    "    \n",
    "    low = 0\n",
    "    high = n*min(times)\n",
    "    while True:\n",
    "        mid = int((low+high)/2)\n",
    "        # int 함수의 특성상 검사의 대상이 되는 mid 는 low + 1을 검사하지 못함 따라서 반복문에서 답이 나오지 않았다면 low + 1\n",
    "        if high-low < 2:\n",
    "            return(low+1)\n",
    "        \n",
    "        c = check(mid,times,n)\n",
    "        if c == 1:\n",
    "            high = mid\n",
    "            \n",
    "        elif c == -1:\n",
    "            low = mid\n",
    "        else:\n",
    "            return(mid)"
   ]
  }
 ],
 "metadata": {
  "kernelspec": {
   "display_name": "Python 3",
   "language": "python",
   "name": "python3"
  },
  "language_info": {
   "codemirror_mode": {
    "name": "ipython",
    "version": 3
   },
   "file_extension": ".py",
   "mimetype": "text/x-python",
   "name": "python",
   "nbconvert_exporter": "python",
   "pygments_lexer": "ipython3",
   "version": "3.7.3"
  }
 },
 "nbformat": 4,
 "nbformat_minor": 2
}
