{
 "cells": [
  {
   "cell_type": "code",
   "execution_count": 2,
   "metadata": {},
   "outputs": [
    {
     "data": {
      "text/plain": [
       "[3, 2, 1]"
      ]
     },
     "execution_count": 2,
     "metadata": {},
     "output_type": "execute_result"
    }
   ],
   "source": [
    "# 참고 n = 4일 때 [0,0,1,0,0,1,1,0,0,0,1,1,0,1,1]\n",
    "# 규칙은 이전 answer에 0을 추가하고 대칭이 되게 보수(complementary number)를 적어주면 된다.\n",
    "# 피보나치 수열문제와 비슷하게 재귀로 풀어주면\n",
    "\n",
    "n = 5 \n",
    "def solution(n,cnt = 1,answer = [0]):\n",
    "    if cnt == n:\n",
    "        return(answer)\n",
    "    cnt = cnt + 1\n",
    "    copy = answer.copy()\n",
    "    copy.reverse()\n",
    "    answer.append(0)\n",
    "    for r in copy:\n",
    "        answer.append(1-r)\n",
    "    \n",
    "    return solution(n,cnt,answer)\n",
    "\n",
    "print(solution)"
   ]
  }
 ],
 "metadata": {
  "kernelspec": {
   "display_name": "Python 3",
   "language": "python",
   "name": "python3"
  },
  "language_info": {
   "codemirror_mode": {
    "name": "ipython",
    "version": 3
   },
   "file_extension": ".py",
   "mimetype": "text/x-python",
   "name": "python",
   "nbconvert_exporter": "python",
   "pygments_lexer": "ipython3",
   "version": "3.6.3"
  }
 },
 "nbformat": 4,
 "nbformat_minor": 2
}
