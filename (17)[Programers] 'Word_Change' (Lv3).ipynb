{
 "cells": [
  {
   "cell_type": "code",
   "execution_count": 1,
   "metadata": {},
   "outputs": [],
   "source": [
    "begin = 'hit'\n",
    "target = 'cog'\n",
    "words = ['hot', 'dot', 'dog', 'lot', 'log', 'cog']\n",
    "\n",
    "# 1개의 변환으로 바꿀 수 있는지 확인하는 함수\n",
    "def mutable(now, nxt):\n",
    "    l = len(now)\n",
    "    cnt = 0\n",
    "    for i in range(l):\n",
    "        if now[i] != nxt[i]:\n",
    "            cnt = cnt + 1\n",
    "        if cnt > 1:\n",
    "            return(0)\n",
    "    else:\n",
    "        return(1)\n",
    "\n",
    "    \n",
    "# DFS로 탐색\n",
    "queue = [(begin,[begin])]\n",
    "mn = len(words)\n",
    "while queue:\n",
    "    now, visited = queue.pop()\n",
    "    if now == target:\n",
    "        if mn > len(visited)-1:\n",
    "            mn = len(visited)-1\n",
    "            continue\n",
    "    \n",
    "    for i in words:\n",
    "        if mutable(now,i) == 1 and i not in visited:\n",
    "            copy = visited.copy()\n",
    "            copy.append(i)\n",
    "            queue.append((i,copy))\n",
    "            \n"
   ]
  },
  {
   "cell_type": "code",
   "execution_count": 2,
   "metadata": {},
   "outputs": [],
   "source": [
    "def mutable(now, nxt):\n",
    "    l = len(now)\n",
    "    cnt = 0\n",
    "    for i in range(l):\n",
    "        if now[i] != nxt[i]:\n",
    "            cnt = cnt + 1\n",
    "        if cnt > 1:\n",
    "            return(0)\n",
    "    else:\n",
    "        return(1)\n",
    "\n",
    "\n",
    "def solution(begin, target, words):\n",
    "    if target not in words:\n",
    "        return(0)\n",
    "    \n",
    "    queue = [(begin,[begin])]\n",
    "    mn = len(words)\n",
    "    while queue:\n",
    "        now, visited = queue.pop()\n",
    "        if now == target:\n",
    "            if mn > len(visited)-1:\n",
    "                mn = len(visited)-1\n",
    "                continue\n",
    "\n",
    "        for i in words:\n",
    "            if mutable(now,i) == 1 and i not in visited:\n",
    "                copy = visited.copy()\n",
    "                copy.append(i)\n",
    "                queue.append((i,copy))\n",
    "                \n",
    "    return(mn)"
   ]
  }
 ],
 "metadata": {
  "kernelspec": {
   "display_name": "Python 3",
   "language": "python",
   "name": "python3"
  },
  "language_info": {
   "codemirror_mode": {
    "name": "ipython",
    "version": 3
   },
   "file_extension": ".py",
   "mimetype": "text/x-python",
   "name": "python",
   "nbconvert_exporter": "python",
   "pygments_lexer": "ipython3",
   "version": "3.7.3"
  }
 },
 "nbformat": 4,
 "nbformat_minor": 2
}
