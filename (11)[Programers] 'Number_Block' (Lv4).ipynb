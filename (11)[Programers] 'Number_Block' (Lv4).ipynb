{
 "cells": [
  {
   "cell_type": "code",
   "execution_count": 1,
   "metadata": {},
   "outputs": [
    {
     "name": "stdout",
     "output_type": "stream",
     "text": [
      "[90, 91, 92, 93, 94, 95, 96, 97, 98, 99, 100]\n",
      "[45, 91, 92, 93, 94, 95, 96, 97, 98, 99, 100]\n",
      "[45, 13, 92, 93, 94, 95, 96, 97, 98, 99, 100]\n",
      "[45, 13, 46, 93, 94, 95, 96, 97, 98, 99, 100]\n",
      "[45, 13, 46, 31, 94, 95, 96, 97, 98, 99, 100]\n",
      "[45, 13, 46, 31, 47, 95, 96, 97, 98, 99, 100]\n",
      "[45, 13, 46, 31, 47, 19, 96, 97, 98, 99, 100]\n",
      "[45, 13, 46, 31, 47, 19, 48, 97, 98, 99, 100]\n",
      "[45, 13, 46, 31, 47, 19, 48, 1, 98, 99, 100]\n",
      "[45, 13, 46, 31, 47, 19, 48, 1, 49, 99, 100]\n",
      "[45, 13, 46, 31, 47, 19, 48, 1, 49, 33, 100]\n",
      "[45, 13, 46, 31, 47, 19, 48, 1, 49, 33, 50]\n"
     ]
    }
   ],
   "source": [
    "#https://programmers.co.kr/learn/courses/30/lessons/12923\n",
    "#답이 이상하다! 정확성이 100점인데 효율성이 0점?\n",
    "#다른 블로그의 코드로 테스트 해 봤지만 모두 같은 결과\n",
    "\n",
    "\n",
    "\n",
    "#아이디어 : 차례 차례 해보는 것이 아니라 규칙을 찾는다\n",
    "# 1일때는 0\n",
    "# 나머지 숫자의 경우 약수 중 1 제외 가장 작은 수로 나눈 값을 입력한다 (소수는 모두 1이 된다)\n",
    "\n",
    "begin = 90\n",
    "end = 100\n",
    "\n",
    "#에라토스테네스의 체를 이용하여 소수 set을 만들고\n",
    "n=int(end**0.5)+1\n",
    "a = [False,False] + [True]*(n-1)\n",
    "primes=[2]\n",
    "\n",
    "for i in range(3,n+1,2):\n",
    "    if a[i]:\n",
    "        primes.append(i)\n",
    "        for j in range(2*i, n+1, i):\n",
    "            a[j] = False\n",
    "\n",
    "\n",
    "#위 규칙을 적용\n",
    "answer = list(range(begin,end+1))\n",
    "for idx, i in enumerate(answer):\n",
    "    print(answer)\n",
    "    if i == 1:\n",
    "        answer[idx] = 0\n",
    "    else:\n",
    "        for j in primes:\n",
    "            if i%j == 0:\n",
    "                answer[idx] = int(i/j)\n",
    "                break\n",
    "        else:\n",
    "            answer[idx] = 1\n",
    "print(answer)\n"
   ]
  },
  {
   "cell_type": "code",
   "execution_count": 2,
   "metadata": {},
   "outputs": [],
   "source": [
    "#solution\n",
    "def get_prime(end):\n",
    "    n= int(end**0.5)+1\n",
    "    a = [False,False] + [True]*(n-1)\n",
    "    primes=[2]\n",
    "\n",
    "    for i in range(3,n+1,2):\n",
    "        if a[i]:\n",
    "            primes.append(i)\n",
    "            for j in range(2*i, n+1, i):\n",
    "                a[j] = False\n",
    "    return(primes)\n",
    "\n",
    "def solution(begin, end):\n",
    "    answer = list(range(begin,end+1))\n",
    "    prime_lst = get_prime(end)\n",
    "    for idx, i in enumerate(answer):\n",
    "        if i == 1:\n",
    "            answer[idx] = 0\n",
    "        else:\n",
    "            for j in prime_lst:\n",
    "                if i%j == 0:\n",
    "                    answer[idx] = int(i/j)\n",
    "                    break\n",
    "            else:\n",
    "                answer[idx] = 1\n",
    "    return answer"
   ]
  }
 ],
 "metadata": {
  "kernelspec": {
   "display_name": "Python 3",
   "language": "python",
   "name": "python3"
  },
  "language_info": {
   "codemirror_mode": {
    "name": "ipython",
    "version": 3
   },
   "file_extension": ".py",
   "mimetype": "text/x-python",
   "name": "python",
   "nbconvert_exporter": "python",
   "pygments_lexer": "ipython3",
   "version": "3.6.3"
  }
 },
 "nbformat": 4,
 "nbformat_minor": 2
}
