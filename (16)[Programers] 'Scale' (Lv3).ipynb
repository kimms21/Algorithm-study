{
 "cells": [
  {
   "cell_type": "code",
   "execution_count": 60,
   "metadata": {},
   "outputs": [
    {
     "name": "stdout",
     "output_type": "stream",
     "text": [
      "2 1\n",
      "3 2\n",
      "5 3\n",
      "8 6\n",
      "14 7\n",
      "21 30\n"
     ]
    },
    {
     "data": {
      "text/plain": [
       "21"
      ]
     },
     "execution_count": 60,
     "metadata": {},
     "output_type": "execute_result"
    }
   ],
   "source": [
    "#https://programmers.co.kr/learn/courses/30/lessons/42886\n",
    "weight = [3, 1, 6, 2, 7, 30, 1]\n",
    "\n",
    "# idea : 정답의 후보로 모든 자연수를 체크해야 하는가? -> NO!\n",
    "# weight를 오름차순으로 정렬 후 sum(weight[0:x]) + 1인 수만 확인하면 된다. (cand)\n",
    "# 만약 weight[x+1] 이 cand 보다 크다면 cand는 weight의 숫자들로 절대 만들 수 없음\n",
    "# 반대로 그렇지 않다면 weight[x+1] 를 포함하여 '어떤' 조합으로 숫자를 만들 수 있으므로 다음 후보 체크 \n",
    "\n",
    "\n",
    "weight.sort()\n",
    "l = len(weight)\n",
    "# 인덱스를 맞추기 위해 원소 하나 추가\n",
    "weight.append(sum(weight)-1)\n",
    "\n",
    "cand = 1\n",
    "for idx, w in enumerate(weight[0:l]):\n",
    "    cand = cand + weight[idx]\n",
    "    print(cand,weight[idx+1])\n",
    "    if weight[idx+1] > cand:\n",
    "        break\n",
    "\n",
    "        \n",
    "cand"
   ]
  },
  {
   "cell_type": "code",
   "execution_count": null,
   "metadata": {
    "collapsed": true
   },
   "outputs": [],
   "source": [
    "def solution(weight):\n",
    "\n",
    "    weight.sort()\n",
    "    l = len(weight)\n",
    "    weight.append(sum(weight)-1)\n",
    "    \n",
    "    cand = 1\n",
    "    for idx, w in enumerate(weight[0:l]):\n",
    "        cand = cand + weight[idx]\n",
    "        if weight[idx+1] > cand:\n",
    "            break\n",
    "\n",
    "    return cand"
   ]
  }
 ],
 "metadata": {
  "kernelspec": {
   "display_name": "Python 3",
   "language": "python",
   "name": "python3"
  },
  "language_info": {
   "codemirror_mode": {
    "name": "ipython",
    "version": 3
   },
   "file_extension": ".py",
   "mimetype": "text/x-python",
   "name": "python",
   "nbconvert_exporter": "python",
   "pygments_lexer": "ipython3",
   "version": "3.6.3"
  }
 },
 "nbformat": 4,
 "nbformat_minor": 2
}
