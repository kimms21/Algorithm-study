{
 "cells": [
  {
   "cell_type": "code",
   "execution_count": 1,
   "metadata": {
    "collapsed": true
   },
   "outputs": [],
   "source": [
    "room_number = [1,3,4,1,3,1]\n",
    "k = 10"
   ]
  },
  {
   "cell_type": "code",
   "execution_count": 2,
   "metadata": {},
   "outputs": [
    {
     "name": "stdout",
     "output_type": "stream",
     "text": [
      "[1, 3, 4, 2, 5, 6]\n"
     ]
    }
   ],
   "source": [
    "# 효율성을 통과 못해 해설을 보고 짠 코드... 하지만 여전히 통과를 못했다...\n",
    "\n",
    "def solution(k,room_number):\n",
    "    allocated = []\n",
    "    dct = {}\n",
    "    for num in room_number:\n",
    "        if num not in dct:\n",
    "            dct[num] = num+1\n",
    "        \n",
    "        else:\n",
    "            while True:\n",
    "                before = num\n",
    "                num = dct[num]\n",
    "                if num not in dct:\n",
    "                    dct[num] = num+1\n",
    "                    break\n",
    "        allocated.append(num)\n",
    "    \n",
    "    return(allocated)\n",
    "\n",
    "print(solution(k,room_number))"
   ]
  },
  {
   "cell_type": "code",
   "execution_count": 3,
   "metadata": {},
   "outputs": [
    {
     "name": "stdout",
     "output_type": "stream",
     "text": [
      "[1, 3, 4, 2, 5, 6]\n"
     ]
    }
   ],
   "source": [
    "# https://velog.io/@ansrjsdn/%ED%94%84%EB%A1%9C%EA%B7%B8%EB%9E%98%EB%A8%B8%EC%8A%A4-level4-%ED%98%B8%ED%85%94-%EB%B0%A9-%EB%B0%B0%EC%A0%95-Python\n",
    "# 위 블로그에서 제시한 답, 통과한다 나랑 논리가 같은데???\n",
    "# https://dailyheumsi.tistory.com/32 (Recursionlimit에 대한 글)\n",
    "# 재귀가 while보다 느리다고 하는데 이건 왜...\n",
    "import sys\n",
    "sys.setrecursionlimit(10000000) # 설정해주지 않으면 재귀가 많이 일어나면서 런타임에러 등이 나타날 수 있다.\n",
    "\n",
    "def findEmptyRoom(number, rooms): # 빈방을 찾는 함수\n",
    "    if number not in rooms:        \n",
    "        rooms[number] = number + 1\n",
    "        return number\n",
    "    \n",
    "    empty = findEmptyRoom(rooms[number], rooms)\n",
    "    rooms[number] = empty + 1\n",
    "    return empty\n",
    "\n",
    "\n",
    "def solution(k, room_number):\n",
    "    answer = []\n",
    "    rooms = dict() # 몇번 방이 비어있는지 체크하는 딕셔너리\n",
    "\n",
    "    for number in room_number:\n",
    "        emptyRoom = findEmptyRoom(number, rooms)\n",
    "        answer.append(emptyRoom)\n",
    "    \n",
    "    return answer\n",
    "\n",
    "print(solution(k,room_number))"
   ]
  }
 ],
 "metadata": {
  "kernelspec": {
   "display_name": "Python 3",
   "language": "python",
   "name": "python3"
  },
  "language_info": {
   "codemirror_mode": {
    "name": "ipython",
    "version": 3
   },
   "file_extension": ".py",
   "mimetype": "text/x-python",
   "name": "python",
   "nbconvert_exporter": "python",
   "pygments_lexer": "ipython3",
   "version": "3.6.3"
  }
 },
 "nbformat": 4,
 "nbformat_minor": 2
}
