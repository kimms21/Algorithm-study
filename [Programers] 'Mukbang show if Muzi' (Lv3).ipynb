{
 "cells": [
  {
   "cell_type": "code",
   "execution_count": 42,
   "metadata": {},
   "outputs": [
    {
     "name": "stdout",
     "output_type": "stream",
     "text": [
      "1. 남은 k : 3 , 현재까지 몇바퀴 : 4 , 음식이 남아있는 접시 수 : 2\n"
     ]
    }
   ],
   "source": [
    "#https://programmers.co.kr/learn/courses/30/lessons/42891\n",
    "\n",
    "food_times = [3,6,7,4]\n",
    "k = 18\n",
    "\n",
    "# 회전 접시가 몇바퀴 돌은 상태인지 구하기 (rotate_cnt)\n",
    "# 1. 몇개의 접시가 0 이상이지? = add \n",
    "\n",
    "s = sorted(food_times)\n",
    "n_food_dish = len(food_times)\n",
    "before_min = 0\n",
    "rotate_cnt = 0\n",
    "\n",
    "for mn in s:\n",
    "    if k - (mn-before_min)*n_food_dish >= 0:\n",
    "        k = k - (mn-before_min)*n_food_dish\n",
    "        n_food_dish = n_food_dish - 1\n",
    "        before_min = mn\n",
    "\n",
    "    else:\n",
    "        rotate_cnt = before\n",
    "        break\n",
    "        \n",
    "print(\"1. 남은 k : %d , 현재까지 몇바퀴 : %d , 음식이 남아있는 접시 수 : %d\" % (k,rotate_cnt,n_food_dish))\n"
   ]
  },
  {
   "cell_type": "code",
   "execution_count": 43,
   "metadata": {},
   "outputs": [
    {
     "name": "stdout",
     "output_type": "stream",
     "text": [
      "2. 남은 k : 1 , 현재까지 몇바퀴 : 4 , 음식이 남아있는 접시 수 : 2\n"
     ]
    }
   ],
   "source": [
    "\n",
    "# 2. 0 이상인 접시를 몇 바퀴 더 돌 수 있지?\n",
    "\n",
    "k = k%n_food_dish\n",
    "rotate_cnt = rotate_cnt + k//n_food_dish\n",
    "print(\"2. 남은 k : %d , 현재까지 몇바퀴 : %d , 음식이 남아있는 접시 수 : %d\" % (k,rotate_cnt,n_food_dish))\n",
    "\n"
   ]
  },
  {
   "cell_type": "code",
   "execution_count": 44,
   "metadata": {},
   "outputs": [
    {
     "name": "stdout",
     "output_type": "stream",
     "text": [
      "3\n"
     ]
    }
   ],
   "source": [
    "#음식이 남아 있는 접시 (value > 0) 중 k 번째 index를 찾아 그 값 + 1을 return\n",
    "\n",
    "where = 0\n",
    "for idx, food in enumerate(food_times):\n",
    "    value = max(food-rotate_cnt,0)\n",
    "    food_times[idx] = value\n",
    "    if value > 0:\n",
    "        if k == 0:\n",
    "            where = idx\n",
    "            break\n",
    "        k = k-1\n",
    "print(where + 1)\n"
   ]
  },
  {
   "cell_type": "code",
   "execution_count": 46,
   "metadata": {},
   "outputs": [
    {
     "name": "stdout",
     "output_type": "stream",
     "text": [
      "3\n"
     ]
    }
   ],
   "source": [
    "#전체 솔루션\n",
    "\n",
    "def solution(food_times,k):\n",
    "    \n",
    "    if sum(food_times) <= k:\n",
    "        return(-1)\n",
    "    \n",
    "    s = sorted(food_times)\n",
    "    n_food_dish = len(food_times)\n",
    "    before_min = 0\n",
    "    rotate_cnt = 0\n",
    "    \n",
    "    for mn in s:\n",
    "        k_cand = k - (mn-before_min)*n_food_dish\n",
    "        if k_cand >= 0:\n",
    "            k = k_cand\n",
    "            n_food_dish = n_food_dish - 1\n",
    "            before_min = mn\n",
    "\n",
    "        else:\n",
    "            rotate_cnt = before_min\n",
    "            break\n",
    "\n",
    "    k = k%n_food_dish\n",
    "    rotate_cnt = rotate_cnt + k//n_food_dish\n",
    "\n",
    "    where = 0\n",
    "    for idx, food in enumerate(food_times):\n",
    "        value = max(food-rotate_cnt,0)\n",
    "        if value > 0:\n",
    "            if k == 0:\n",
    "                where = idx\n",
    "                break\n",
    "            k = k-1\n",
    "    return(where + 1)\n",
    "\n",
    "print(solution(food_times,k))"
   ]
  }
 ],
 "metadata": {
  "kernelspec": {
   "display_name": "Python 3",
   "language": "python",
   "name": "python3"
  },
  "language_info": {
   "codemirror_mode": {
    "name": "ipython",
    "version": 3
   },
   "file_extension": ".py",
   "mimetype": "text/x-python",
   "name": "python",
   "nbconvert_exporter": "python",
   "pygments_lexer": "ipython3",
   "version": "3.7.3"
  }
 },
 "nbformat": 4,
 "nbformat_minor": 2
}
