{
 "cells": [
  {
   "cell_type": "code",
   "execution_count": 1,
   "metadata": {
    "collapsed": true
   },
   "outputs": [],
   "source": [
    "n = 6\n",
    "vertex = [[3, 6], [4, 3], [3, 2], [1, 3], [1, 2], [2, 4], [5, 2], [4,6]]"
   ]
  },
  {
   "cell_type": "code",
   "execution_count": 2,
   "metadata": {},
   "outputs": [
    {
     "name": "stdout",
     "output_type": "stream",
     "text": [
      "[(3, 1)]\n",
      "[(3, 1), (2, 1)]\n",
      "[(2, 1), (6, 2)]\n",
      "[(2, 1), (6, 2), (4, 2)]\n",
      "[(6, 2), (4, 2), (5, 2)]\n"
     ]
    },
    {
     "data": {
      "text/plain": [
       "3"
      ]
     },
     "execution_count": 2,
     "metadata": {},
     "output_type": "execute_result"
    }
   ],
   "source": [
    "#bfs\n",
    "\n",
    "edge = {}\n",
    "for i in range(1,n+1):\n",
    "    edge[i] = []\n",
    "for v in vertex:\n",
    "    a,b = v\n",
    "    edge[a].append(b)\n",
    "    edge[b].append(a)\n",
    "\n",
    "\n",
    "min_dist = {}\n",
    "min_dist[1] = 0\n",
    "for i in range(2,n+1):\n",
    "    min_dist[i] = n\n",
    "\n",
    "#queue : node, node 까지 가는데 걸린 최단거리\n",
    "queue = [(1,0)]\n",
    "visited_dct = {}\n",
    "visited_dct[1] = 1\n",
    "for i in range(2,n+1):\n",
    "    visited_dct[i] = 0\n",
    "\n",
    "while queue:\n",
    "    node, cnt = queue.pop(0)\n",
    "    cand = edge[node]\n",
    "    #연결된 점 중에서 방문하지 않았으면 최단거리 update, 1에서부터 가까운 점부터 돌아야 하기 때문에 .pop(0) 사용\n",
    "    for c in cand:\n",
    "        if visited_dct[c] == 0:\n",
    "            queue.append((c,cnt+1))\n",
    "            visited_dct[c]=1\n",
    "            min_dist[c] = cnt+1\n",
    "            print(queue)\n",
    "                \n",
    "mx = max(min_dist.values())\n",
    "cnt = 0\n",
    "for m in min_dist:\n",
    "    if min_dist[m] == mx:\n",
    "        cnt = cnt + 1\n",
    "cnt"
   ]
  },
  {
   "cell_type": "code",
   "execution_count": 3,
   "metadata": {
    "collapsed": true
   },
   "outputs": [],
   "source": [
    "def solution(n, vertex):\n",
    "    #bfs\n",
    "\n",
    "    edge = {}\n",
    "    for i in range(1,n+1):\n",
    "        edge[i] = []\n",
    "    for v in vertex:\n",
    "        a,b = v\n",
    "        edge[a].append(b)\n",
    "        edge[b].append(a)\n",
    "\n",
    "\n",
    "    min_dist = {}\n",
    "    min_dist[1] = 0\n",
    "    for i in range(2,n+1):\n",
    "        min_dist[i] = n\n",
    "\n",
    "    queue = [(1,0)]\n",
    "    visited_dct = {}\n",
    "    visited_dct[1] = 1\n",
    "    for i in range(2,n+1):\n",
    "        visited_dct[i] = 0\n",
    "\n",
    "    while queue:\n",
    "        node, cnt = queue.pop(0)\n",
    "        cand = edge[node]\n",
    "        for c in cand:\n",
    "            if visited_dct[c] == 0:\n",
    "                queue.append((c,cnt+1))\n",
    "                visited_dct[c]=1\n",
    "                min_dist[c] = cnt+1\n",
    "                print(queue)\n",
    "\n",
    "    mx = max(min_dist.values())\n",
    "    cnt = 0\n",
    "    for m in min_dist:\n",
    "        if min_dist[m] == mx:\n",
    "            cnt = cnt + 1\n",
    "    return(cnt)"
   ]
  }
 ],
 "metadata": {
  "kernelspec": {
   "display_name": "Python 3",
   "language": "python",
   "name": "python3"
  },
  "language_info": {
   "codemirror_mode": {
    "name": "ipython",
    "version": 3
   },
   "file_extension": ".py",
   "mimetype": "text/x-python",
   "name": "python",
   "nbconvert_exporter": "python",
   "pygments_lexer": "ipython3",
   "version": "3.6.3"
  }
 },
 "nbformat": 4,
 "nbformat_minor": 2
}
