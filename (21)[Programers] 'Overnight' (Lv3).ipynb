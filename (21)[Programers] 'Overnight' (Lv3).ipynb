{
 "cells": [
  {
   "cell_type": "code",
   "execution_count": 1,
   "metadata": {},
   "outputs": [
    {
     "name": "stdout",
     "output_type": "stream",
     "text": [
      "[7, 5, 2, 1, 0] 7\n",
      "[5, 5, 2, 1, 0] 5\n",
      "[5, 5, 2, 1, 0] 5\n"
     ]
    },
    {
     "data": {
      "text/plain": [
       "18"
      ]
     },
     "execution_count": 1,
     "metadata": {},
     "output_type": "execute_result"
    }
   ],
   "source": [
    "works = [7,5,2,1]\n",
    "n = 7\n",
    "# idea : 가장 큰 값부터 줄여준다\n",
    "\n",
    "\n",
    "works.sort(reverse = True)\n",
    "works.append(0)\n",
    "for idx, work in enumerate(works[:-1]):\n",
    "    # 가장 큰 항과 그 다음 큰 항과의 차이를 구함 (late)\n",
    "    late = works[idx]-works[idx+1]\n",
    "    # 동점 포함 가장 큰 항에서 각각 late를 빼줄 건데 n이 (idx+1)*late보다 크면 계속 빼주는 단계로 (else)\n",
    "    # 그렇지 않다면 답을 구하는 단계로 이동\n",
    "    print(works,n)\n",
    "    if n < (idx+1)*late:\n",
    "        quot = n//(idx+1)\n",
    "        remain = n%(idx+1)\n",
    "        answer = 0\n",
    "        print(works,n)\n",
    "        # 야근 시간을 한번도 줄이지 않은 날\n",
    "        # 동점이지만 1번 덜 줄인 날\n",
    "        # 동점이지만 1번 더 줄인 날\n",
    "        # 3가지 케이스로 나누어 계산\n",
    "        for i, w in enumerate(works):\n",
    "            #동점 중 1번 더 줄인 날\n",
    "            if remain > 0:\n",
    "                remain = remain-1\n",
    "                answer = answer + (w-1-quot)**2\n",
    "            else:\n",
    "                #동점 중 1번 덜 줄인 날\n",
    "                if i < idx+1:\n",
    "                    answer = answer + (w-quot)**2\n",
    "                #야근 시간을 한번도 줄이지 않은 날\n",
    "                else:\n",
    "                    answer = answer + w**2\n",
    "        \n",
    "        break\n",
    "    else:\n",
    "        n = n - (idx+1)*late\n",
    "        for i in range(idx+1):\n",
    "            works[i] = works[i] - late\n",
    "\n",
    "    \n",
    "answer"
   ]
  },
  {
   "cell_type": "code",
   "execution_count": 2,
   "metadata": {
    "collapsed": true
   },
   "outputs": [],
   "source": [
    "def solution(n, works):\n",
    "    if sum(works) <=n:\n",
    "        return(0)\n",
    "\n",
    "    works.sort(reverse = True)\n",
    "    works.append(0)\n",
    "    for idx, work in enumerate(works[:-1]):\n",
    "        late = works[idx]-works[idx+1]\n",
    "        if n < (idx+1)*late:\n",
    "            quot = n//(idx+1)\n",
    "            remain = n%(idx+1)\n",
    "            answer = 0\n",
    "            for i, w in enumerate(works):\n",
    "                if remain > 0:\n",
    "                    remain = remain-1\n",
    "                    answer = answer + (w-1-quot)**2\n",
    "                else:\n",
    "                    if i < idx+1:\n",
    "                        answer = answer + (w-quot)**2\n",
    "                    else:\n",
    "                        answer = answer + w**2\n",
    "\n",
    "            break\n",
    "        else:\n",
    "            n = n - (idx+1)*late\n",
    "            for i in range(idx+1):\n",
    "                works[i] = works[i] - late\n",
    "\n",
    "    \n",
    "    return(answer)"
   ]
  }
 ],
 "metadata": {
  "kernelspec": {
   "display_name": "Python 3",
   "language": "python",
   "name": "python3"
  },
  "language_info": {
   "codemirror_mode": {
    "name": "ipython",
    "version": 3
   },
   "file_extension": ".py",
   "mimetype": "text/x-python",
   "name": "python",
   "nbconvert_exporter": "python",
   "pygments_lexer": "ipython3",
   "version": "3.6.3"
  }
 },
 "nbformat": 4,
 "nbformat_minor": 2
}
