{
 "cells": [
  {
   "cell_type": "code",
   "execution_count": 1,
   "metadata": {},
   "outputs": [],
   "source": [
    "money = [1, 2, 3, 1, 3, 5]\n",
    "\n",
    "# 원형 형태인건 마지막 집을 무조건 털지 않는 경우, 첫번째 집을 무조건 털지 않는 경우 2가지로 나누어서 생각\n",
    "# dp의 내용은 (원형이 아닌 직선 형태라 가정하고) 1번 집부터 n번 집까지 털었을 때의 최대값\n",
    "# 점화식은 DP(n+2) = max(DP(n)+money(n), DP(n+1))\n"
   ]
  },
  {
   "cell_type": "code",
   "execution_count": 2,
   "metadata": {},
   "outputs": [
    {
     "data": {
      "text/plain": [
       "8"
      ]
     },
     "execution_count": 2,
     "metadata": {},
     "output_type": "execute_result"
    }
   ],
   "source": [
    "def get_max(money):\n",
    "    dp = [money[0],max(money[0],money[1])]\n",
    "    for i in range(len(money)-2):\n",
    "        update = max(dp[i]+money[i+2],dp[i+1])\n",
    "        dp.append(update)\n",
    "    return(dp[len(dp)-1])\n",
    "\n",
    "def solution(money):\n",
    "    cand1 = money[0:len(money)-1]\n",
    "    cand2 = money[1:]\n",
    "    return(max(get_max(cand1),get_max(cand2)))\n",
    "\n",
    "solution(money)"
   ]
  }
 ],
 "metadata": {
  "kernelspec": {
   "display_name": "Python 3",
   "language": "python",
   "name": "python3"
  },
  "language_info": {
   "codemirror_mode": {
    "name": "ipython",
    "version": 3
   },
   "file_extension": ".py",
   "mimetype": "text/x-python",
   "name": "python",
   "nbconvert_exporter": "python",
   "pygments_lexer": "ipython3",
   "version": "3.7.3"
  }
 },
 "nbformat": 4,
 "nbformat_minor": 2
}
